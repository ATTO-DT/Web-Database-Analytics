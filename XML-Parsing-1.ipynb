{
 "cells": [
  {
   "cell_type": "code",
   "execution_count": 1,
   "metadata": {
    "collapsed": true
   },
   "outputs": [],
   "source": [
    "import xml.etree.ElementTree as ET"
   ]
  },
  {
   "cell_type": "code",
   "execution_count": 22,
   "metadata": {
    "collapsed": true
   },
   "outputs": [],
   "source": [
    "data = '''\n",
    "<person>\n",
    "  <name>Chuck</name>\n",
    "  <surname>Sevarance</surname>\n",
    "  <phone type=\"intl\">\n",
    "     +1 734 303 4456\n",
    "   </phone>\n",
    "   <email hide=\"yes\">\n",
    "   chuck@gmail.com</email>\n",
    "</person>'''"
   ]
  },
  {
   "cell_type": "code",
   "execution_count": 24,
   "metadata": {},
   "outputs": [
    {
     "name": "stdout",
     "output_type": "stream",
     "text": [
      "Name: Chuck\n",
      "Surname: Sevarance\n",
      "Phone: +1 734 303 4456\n",
      "Email hidden: yes\n",
      "Email: chuck@gmail.com\n"
     ]
    }
   ],
   "source": [
    "tree = ET.fromstring(data)\n",
    "print('Name:', tree.find('name').text)\n",
    "print('Surname:', tree.find('surname').text)\n",
    "print('Phone:', tree.find('phone').text.strip())\n",
    "print('Email hidden:', tree.find('email').get('hide'))\n",
    "print('Email:', tree.find('email').text.strip())"
   ]
  },
  {
   "cell_type": "code",
   "execution_count": 25,
   "metadata": {},
   "outputs": [
    {
     "data": {
      "text/plain": [
       "xml.etree.ElementTree.Element"
      ]
     },
     "execution_count": 25,
     "metadata": {},
     "output_type": "execute_result"
    }
   ],
   "source": [
    "type(tree)"
   ]
  },
  {
   "cell_type": "code",
   "execution_count": 32,
   "metadata": {
    "collapsed": true
   },
   "outputs": [],
   "source": [
    "tree2=ET.parse('xml1.xml')"
   ]
  },
  {
   "cell_type": "code",
   "execution_count": 36,
   "metadata": {},
   "outputs": [],
   "source": [
    "root=tree2.getroot()"
   ]
  },
  {
   "cell_type": "code",
   "execution_count": 37,
   "metadata": {},
   "outputs": [
    {
     "name": "stdout",
     "output_type": "stream",
     "text": [
      "country {'name': 'Liechtenstein'}\n",
      "country {'name': 'Singapore'}\n",
      "country {'name': 'Panama'}\n"
     ]
    }
   ],
   "source": [
    "for child in root:\n",
    "    print (child.tag, child.attrib)"
   ]
  },
  {
   "cell_type": "code",
   "execution_count": 39,
   "metadata": {},
   "outputs": [
    {
     "data": {
      "text/plain": [
       "'141100'"
      ]
     },
     "execution_count": 39,
     "metadata": {},
     "output_type": "execute_result"
    }
   ],
   "source": [
    "root[0][2].text"
   ]
  },
  {
   "cell_type": "code",
   "execution_count": 53,
   "metadata": {},
   "outputs": [
    {
     "name": "stdout",
     "output_type": "stream",
     "text": [
      "[]\n",
      "['name']\n",
      "[]\n",
      "[]\n",
      "[]\n",
      "['name', 'direction']\n",
      "['name', 'direction']\n",
      "['name']\n",
      "[]\n",
      "[]\n",
      "[]\n",
      "['name', 'direction']\n",
      "['name']\n",
      "[]\n",
      "[]\n",
      "[]\n",
      "['name', 'direction']\n",
      "['name', 'direction']\n"
     ]
    }
   ],
   "source": [
    "for elem in tree2.iter():\n",
    "    print (elem.keys())"
   ]
  },
  {
   "cell_type": "code",
   "execution_count": 70,
   "metadata": {},
   "outputs": [
    {
     "name": "stdout",
     "output_type": "stream",
     "text": [
      "GDP per capita: 141100\n",
      "Neighbors\n",
      "-------------------------\n",
      "Austria\n",
      "Switzerland\n",
      "\n",
      "\n",
      "GDP per capita: 59900\n",
      "Neighbors\n",
      "-------------------------\n",
      "Malaysia\n",
      "\n",
      "\n",
      "GDP per capita: 13600\n",
      "Neighbors\n",
      "-------------------------\n",
      "Costa Rica\n",
      "Colombia\n",
      "\n",
      "\n"
     ]
    }
   ],
   "source": [
    "for child in tree2.getroot():\n",
    "    print('GDP per capita:',child.find('gdppc').text)\n",
    "    ne=child.findall('neighbor')\n",
    "    print(\"Neighbors\\n\"+\"-\"*25)\n",
    "    for i in ne:\n",
    "        print(i.attrib['name'])\n",
    "    print('\\n')"
   ]
  },
  {
   "cell_type": "code",
   "execution_count": null,
   "metadata": {
    "collapsed": true
   },
   "outputs": [],
   "source": []
  }
 ],
 "metadata": {
  "kernelspec": {
   "display_name": "Python 3",
   "language": "python",
   "name": "python3"
  },
  "language_info": {
   "codemirror_mode": {
    "name": "ipython",
    "version": 3
   },
   "file_extension": ".py",
   "mimetype": "text/x-python",
   "name": "python",
   "nbconvert_exporter": "python",
   "pygments_lexer": "ipython3",
   "version": "3.6.2"
  }
 },
 "nbformat": 4,
 "nbformat_minor": 2
}
