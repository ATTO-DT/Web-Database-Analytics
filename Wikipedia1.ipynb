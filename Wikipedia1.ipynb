{
 "cells": [
  {
   "cell_type": "code",
   "execution_count": 1,
   "metadata": {},
   "outputs": [],
   "source": [
    "import requests"
   ]
  },
  {
   "cell_type": "code",
   "execution_count": 21,
   "metadata": {},
   "outputs": [],
   "source": [
    "wiki_home = \"https://en.wikipedia.org/wiki/main_page\"\n",
    "response = requests.get(wiki_home)"
   ]
  },
  {
   "cell_type": "code",
   "execution_count": 22,
   "metadata": {},
   "outputs": [],
   "source": [
    "def status_check(r):\n",
    "    if r.status_code==200:\n",
    "        print(\"Success!\")\n",
    "    else:\n",
    "        print(\"Failed!\")"
   ]
  },
  {
   "cell_type": "code",
   "execution_count": 23,
   "metadata": {},
   "outputs": [
    {
     "name": "stdout",
     "output_type": "stream",
     "text": [
      "Success!\n"
     ]
    }
   ],
   "source": [
    "status_check(response)"
   ]
  },
  {
   "cell_type": "code",
   "execution_count": 24,
   "metadata": {},
   "outputs": [],
   "source": [
    "def encoding_check(r):\n",
    "    return (r.encoding)"
   ]
  },
  {
   "cell_type": "code",
   "execution_count": 25,
   "metadata": {},
   "outputs": [
    {
     "data": {
      "text/plain": [
       "'UTF-8'"
      ]
     },
     "execution_count": 25,
     "metadata": {},
     "output_type": "execute_result"
    }
   ],
   "source": [
    "encoding_check(response)"
   ]
  },
  {
   "cell_type": "code",
   "execution_count": 26,
   "metadata": {},
   "outputs": [],
   "source": [
    "def decode_content(r,encoding):\n",
    "    return (r.content.decode(encoding))"
   ]
  },
  {
   "cell_type": "code",
   "execution_count": 27,
   "metadata": {},
   "outputs": [],
   "source": [
    "contents = decode_content(response,encoding_check(response))"
   ]
  },
  {
   "cell_type": "code",
   "execution_count": 28,
   "metadata": {},
   "outputs": [
    {
     "data": {
      "text/plain": [
       "str"
      ]
     },
     "execution_count": 28,
     "metadata": {},
     "output_type": "execute_result"
    }
   ],
   "source": [
    "type(contents)"
   ]
  },
  {
   "cell_type": "code",
   "execution_count": 29,
   "metadata": {},
   "outputs": [],
   "source": [
    "def search_content(content, string):\n",
    "    if content.find(string)!=-1:\n",
    "        return (content.find(string))\n",
    "    else:\n",
    "        return None"
   ]
  },
  {
   "cell_type": "code",
   "execution_count": 30,
   "metadata": {},
   "outputs": [
    {
     "name": "stdout",
     "output_type": "stream",
     "text": [
      "13688\n"
     ]
    }
   ],
   "source": [
    "print(search_content(contents,'Did you know'))"
   ]
  },
  {
   "cell_type": "code",
   "execution_count": 35,
   "metadata": {},
   "outputs": [],
   "source": [
    "from bs4 import BeautifulSoup"
   ]
  },
  {
   "cell_type": "code",
   "execution_count": 36,
   "metadata": {},
   "outputs": [],
   "source": [
    "soup = BeautifulSoup(contents, 'html.parser')"
   ]
  },
  {
   "cell_type": "code",
   "execution_count": 45,
   "metadata": {},
   "outputs": [],
   "source": [
    "txt_dump=soup.text"
   ]
  },
  {
   "cell_type": "code",
   "execution_count": 63,
   "metadata": {},
   "outputs": [],
   "source": [
    "idx1=txt_dump.find(\"From today's featured article\")\n",
    "idx2=txt_dump.find(\"Recently featured\")"
   ]
  },
  {
   "cell_type": "code",
   "execution_count": 64,
   "metadata": {},
   "outputs": [
    {
     "name": "stdout",
     "output_type": "stream",
     "text": [
      "\n",
      "Olivia Manning (1908–1980) was a British novelist, poet, writer and reviewer. Her fiction and non-fiction, frequently detailing journeys and personal odysseys, were principally set in England, Ireland, Europe and the Middle East. Her first serious novel, The Wind Changes, was published in 1937. She lived in Bucharest, Romania, and in Greece, Egypt and Palestine, as Nazi Germany overran Eastern Europe. Her experiences helped form the six novels making up The Balkan Trilogy and The Levant Trilogy, known collectively as Fortunes of War. The overall quality of her output was considered uneven by critics, but this series, published between 1960 and 1980, was described by Anthony Burgess as \"the finest fictional record of the war produced by a British writer\". Manning returned to London after the war, writing poetry, short stories, novels, non-fiction, reviews, and drama for the British Broadcasting Corporation. As she had feared, real fame only came after her death, when an adaptation of Fortunes of War was televised in 1987. (Full article...)\n",
      "\n"
     ]
    }
   ],
   "source": [
    "print(txt_dump[idx1+len(\"From today's featured article\"):idx2])"
   ]
  },
  {
   "cell_type": "code",
   "execution_count": 65,
   "metadata": {},
   "outputs": [],
   "source": [
    "idx1=txt_dump.find(\"On this day\")\n",
    "#idx2=txt_dump.find(\"Recently featured\")"
   ]
  },
  {
   "cell_type": "code",
   "execution_count": 67,
   "metadata": {},
   "outputs": [
    {
     "name": "stdout",
     "output_type": "stream",
     "text": [
      "...\n",
      "\n",
      "February 27\n",
      "\n",
      "\n",
      "Bayern München logo\n",
      "\n",
      "\n",
      "\n",
      "380 – Christianity became the state religion of the Roman Empire as a result of the Edict of Thessalonica.\n",
      "1776 – American Revolutionary War: A Patriot victory in the Battle of Moore's Creek Bridge resulted in the arrests of 850 Loyalists over the following days.\n",
      "1900 – FC Bayern Munich (logo pictured), Germany's most successful football club, was founded.\n",
      "1962 – Two dissident Vietnam Air Force pilots bombed the Independence Palace in Saigon in a failed attempt to assassinate South Vietnam President Ngo Dinh Diem.\n",
      "1988 – The Armenian community of Sumgait in Azerbaijan was the target of a violent pogrom.\n",
      "\n",
      "Robert of Melun (d. 1167) · Joaquín Sorolla (b. 1863) · Leah Poulton (b. 1984)\n",
      "More anniversaries:\n",
      "\n",
      "\n",
      "February 26\n",
      "February 27\n",
      "February 28\n",
      "\n",
      "\n",
      "\n",
      "\n",
      "\n",
      "Archive\n",
      "By email\n",
      "List of historical anniversaries\n",
      "\n",
      "\n",
      "\n",
      "\n",
      "\n",
      "\n",
      "\n",
      "\n",
      "Today's featured picture\n",
      "\n",
      "\n",
      "\n",
      "\n",
      "\n",
      "All Saints, Margaret Street, is a Grade I listed Anglican church in London. Designed by the architect William Butter\n"
     ]
    }
   ],
   "source": [
    "print(txt_dump[idx1+len(\"On this day\"):idx1+len(\"On this day\")+1000])"
   ]
  },
  {
   "cell_type": "code",
   "execution_count": null,
   "metadata": {},
   "outputs": [],
   "source": []
  }
 ],
 "metadata": {
  "kernelspec": {
   "display_name": "Python 3",
   "language": "python",
   "name": "python3"
  },
  "language_info": {
   "codemirror_mode": {
    "name": "ipython",
    "version": 3
   },
   "file_extension": ".py",
   "mimetype": "text/x-python",
   "name": "python",
   "nbconvert_exporter": "python",
   "pygments_lexer": "ipython3",
   "version": "3.6.2"
  },
  "latex_envs": {
   "LaTeX_envs_menu_present": true,
   "autoclose": false,
   "autocomplete": true,
   "bibliofile": "biblio.bib",
   "cite_by": "apalike",
   "current_citInitial": 1,
   "eqLabelWithNumbers": true,
   "eqNumInitial": 1,
   "hotkeys": {
    "equation": "Ctrl-E",
    "itemize": "Ctrl-I"
   },
   "labels_anchors": false,
   "latex_user_defs": false,
   "report_style_numbering": false,
   "user_envs_cfg": false
  }
 },
 "nbformat": 4,
 "nbformat_minor": 2
}
