{
 "cells": [
  {
   "cell_type": "code",
   "execution_count": 2,
   "metadata": {},
   "outputs": [],
   "source": [
    "import urllib.request, urllib.parse, urllib.error\n",
    "import xml.etree.ElementTree as ET"
   ]
  },
  {
   "cell_type": "code",
   "execution_count": 3,
   "metadata": {},
   "outputs": [],
   "source": [
    "serviceurl = 'http://maps.googleapis.com/maps/api/geocode/xml?'"
   ]
  },
  {
   "cell_type": "code",
   "execution_count": 6,
   "metadata": {
    "code_folding": []
   },
   "outputs": [
    {
     "name": "stdout",
     "output_type": "stream",
     "text": [
      "Enter the name of a town (enter 'quit' to quit): Mexico city\n",
      "\n",
      "Mexico city is a place situated in the country of Mexico.\n",
      "It's latitude and longitude are 19.4326077, -99.1332080, respectively.\n",
      "Enter the name of a town (enter 'quit' to quit): Greenwich\n",
      "\n",
      "Greenwich is a place situated in the country of UK.\n",
      "It's latitude and longitude are 51.4825766, -0.0076589, respectively.\n",
      "Enter the name of a town (enter 'quit' to quit): Leon\n",
      "\n",
      "Leon is a place situated in the country of USA.\n",
      "It's latitude and longitude are 30.4906177, -84.1857115, respectively.\n",
      "Enter the name of a town (enter 'quit' to quit): Leon, France\n",
      "\n",
      "Leon, France is a place situated in the country of France.\n",
      "It's latitude and longitude are 43.8758280, -1.3031370, respectively.\n",
      "Enter the name of a town (enter 'quit' to quit): New Delhi\n",
      "\n",
      "New Delhi is a place situated in the country of India.\n",
      "It's latitude and longitude are 28.6139391, 77.2090212, respectively.\n",
      "Enter the name of a town (enter 'quit' to quit): \n"
     ]
    }
   ],
   "source": [
    "while True:\n",
    "    address = input('Enter the name of a town (enter \\'quit\\' to quit): ')\n",
    "    if len(address) < 1 or address=='quit': break\n",
    "\n",
    "    url = serviceurl + urllib.parse.urlencode({'address': address})\n",
    "    #print('Retrieving', url)\n",
    "    uh = urllib.request.urlopen(url)\n",
    "    data = uh.read().decode()\n",
    "    #print('Retrieved', len(data), 'characters')\n",
    "    #print(data.decode())\n",
    "    tree = ET.fromstring(data)\n",
    "    \n",
    "    status = tree.find('status').text\n",
    "    if status!='OK':\n",
    "        print('Could not retrive')\n",
    "        break\n",
    "    results = tree.findall('result')\n",
    "    lat = results[0].find('geometry').find('location').find('lat').text\n",
    "    lng = results[0].find('geometry').find('location').find('lng').text\n",
    "    location = results[0].find('formatted_address').text\n",
    "    formatted_address = location.split(', ')\n",
    "    country = formatted_address[-1]\n",
    "\n",
    "    print (f\"\\n{address} is a place situated in the country of {country}.\\nIt's latitude and longitude are {lat}, {lng}, respectively.\")"
   ]
  },
  {
   "cell_type": "code",
   "execution_count": null,
   "metadata": {},
   "outputs": [],
   "source": []
  }
 ],
 "metadata": {
  "kernelspec": {
   "display_name": "Python 3",
   "language": "python",
   "name": "python3"
  },
  "language_info": {
   "codemirror_mode": {
    "name": "ipython",
    "version": 3
   },
   "file_extension": ".py",
   "mimetype": "text/x-python",
   "name": "python",
   "nbconvert_exporter": "python",
   "pygments_lexer": "ipython3",
   "version": "3.6.2"
  },
  "latex_envs": {
   "LaTeX_envs_menu_present": true,
   "autoclose": false,
   "autocomplete": true,
   "bibliofile": "biblio.bib",
   "cite_by": "apalike",
   "current_citInitial": 1,
   "eqLabelWithNumbers": true,
   "eqNumInitial": 1,
   "hotkeys": {
    "equation": "Ctrl-E",
    "itemize": "Ctrl-I"
   },
   "labels_anchors": false,
   "latex_user_defs": false,
   "report_style_numbering": false,
   "user_envs_cfg": false
  },
  "toc": {
   "nav_menu": {},
   "number_sections": true,
   "sideBar": true,
   "skip_h1_title": false,
   "title_cell": "Table of Contents",
   "title_sidebar": "Contents",
   "toc_cell": false,
   "toc_position": {},
   "toc_section_display": true,
   "toc_window_display": false
  }
 },
 "nbformat": 4,
 "nbformat_minor": 2
}
